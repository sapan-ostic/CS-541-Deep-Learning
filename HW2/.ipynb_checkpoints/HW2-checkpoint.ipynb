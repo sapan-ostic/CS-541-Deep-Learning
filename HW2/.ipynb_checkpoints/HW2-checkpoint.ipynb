{
 "cells": [
  {
   "cell_type": "markdown",
   "metadata": {},
   "source": [
    "## Stochastic Gradient Descent with $L_2$ Regularization \n",
    "\n",
    "$ \\theta = \\begin{bmatrix} \n",
    "          w  \\\\\n",
    "          b \n",
    "     \\end{bmatrix} $\n",
    "\n",
    "$X = \\begin{bmatrix} \n",
    "          x_1 & 1\\\\ \n",
    "          x_2 & 1\\\\\n",
    "          \\cdots & \\cdots \\\\\n",
    "          x_n & 1 \n",
    "     \\end{bmatrix} $\n",
    "\n",
    "$ \\hat{y} = x \\theta $  \n",
    "\n",
    "$J(\\theta) = \\frac{1}{2n} \\sum ( \\hat{y}_{test} - y_{test} )^2 + \\alpha w^T w$ \n",
    "\n",
    "Note that, in regularization we only penalize the weights and not the bias. \n",
    "\n",
    "$J(\\theta) = \\frac{1}{2n} \\sum ( x_i \\theta - y_{test} )^2 + \\alpha w^T w$\n",
    "\n",
    "$\\nabla_{\\theta} J(\\theta) = -\\frac{1}{n} X^T.[X \\theta - Y_{test} ]$\n",
    "\n",
    "$\\theta = \\theta - \\alpha \\nabla_{\\theta} J(\\theta)$\n",
    "\n",
    "$\\theta = \\theta + \\frac{\\alpha}{n} X^T.[X \\theta - Y_{test}]$"
   ]
  },
  {
   "cell_type": "code",
   "execution_count": 3,
   "metadata": {},
   "outputs": [],
   "source": [
    "def linear_regression (X_tr, y_tr):\n",
    "    n,m = X_tr.shape\n",
    "    X = np.zeros([1,m])\n",
    "    for i in range(n):\n",
    "        X += (X_tr[i,:]) * y_tr[i]\n",
    "    A = np.dot(X_tr.transpose(), X_tr)\n",
    "    w = np.linalg.solve(A,X.transpose())\n",
    "    return w\n",
    "    \n",
    "def train_age_regressor ():\n",
    "    # Load data\n",
    "    X_tr = np.load(\"age_regression_Xtr.npy\")\n",
    "    n = X_tr.shape[0]\n",
    "    X_tr = X_tr.reshape((n,-1))\n",
    "    ytr = np.load(\"age_regression_ytr.npy\")\n",
    "    \n",
    "    X_te = np.load(\"age_regression_Xte.npy\")\n",
    "    m = X_te.shape[0]\n",
    "    X_te = X_te.reshape((m,-1))\n",
    "    \n",
    "    yte = np.load(\"age_regression_yte.npy\")\n",
    "\n",
    "    w = linear_regression(X_tr, ytr)\n",
    "    return w\n",
    "    # Report fMSE cost on the training and testing data (separately)\n",
    "    # ...\n"
   ]
  },
  {
   "cell_type": "code",
   "execution_count": null,
   "metadata": {},
   "outputs": [],
   "source": []
  },
  {
   "cell_type": "code",
   "execution_count": 2,
   "metadata": {
    "scrolled": true
   },
   "outputs": [],
   "source": [
    "w = train_age_regressor ()"
   ]
  },
  {
   "cell_type": "code",
   "execution_count": 3,
   "metadata": {},
   "outputs": [
    {
     "data": {
      "text/plain": [
       "array([[  6.98588537],\n",
       "       [ -1.0178158 ],\n",
       "       [-15.19684493],\n",
       "       ...,\n",
       "       [  4.52892776],\n",
       "       [-11.65211279],\n",
       "       [  7.92118149]])"
      ]
     },
     "execution_count": 3,
     "metadata": {},
     "output_type": "execute_result"
    }
   ],
   "source": [
    "w"
   ]
  },
  {
   "cell_type": "code",
   "execution_count": 7,
   "metadata": {},
   "outputs": [
    {
     "name": "stdout",
     "output_type": "stream",
     "text": [
      "Training Data fMSE =  50.46549587657664\n",
      "Testing Data fMSE =  269.19936735382396\n"
     ]
    }
   ],
   "source": [
    "X_tr = np.load(\"age_regression_Xtr.npy\")\n",
    "n = X_tr.shape[0]\n",
    "X_tr = X_tr.reshape((n,-1))\n",
    "ytr = np.load(\"age_regression_ytr.npy\")\n",
    "\n",
    "X_te = np.load(\"age_regression_Xte.npy\")\n",
    "m = X_te.shape[0]\n",
    "X_te = X_te.reshape((m,-1))\n",
    "yte = np.load(\"age_regression_yte.npy\")\n",
    "\n",
    "fMSE = 0\n",
    "for i in range(n):\n",
    "    fMSE += (1/(2*n))*(np.dot(X_tr[i,:],w)- ytr[i])*(np.dot(X_tr[i,:],w)- ytr[i]) \n",
    "    \n",
    "print(\"Training Data fMSE = \", fMSE[0])\n",
    "\n",
    "fMSE = 0\n",
    "for i in range(m):\n",
    "    fMSE += (1/(2*m))*(np.dot(X_te[i,:],w)- yte[i])*(np.dot(X_te[i,:],w)- yte[i]) \n",
    "    \n",
    "print(\"Testing Data fMSE = \", fMSE[0])"
   ]
  }
 ],
 "metadata": {
  "kernelspec": {
   "display_name": "Python 3",
   "language": "python",
   "name": "python3"
  },
  "language_info": {
   "codemirror_mode": {
    "name": "ipython",
    "version": 3
   },
   "file_extension": ".py",
   "mimetype": "text/x-python",
   "name": "python",
   "nbconvert_exporter": "python",
   "pygments_lexer": "ipython3",
   "version": "3.7.4"
  }
 },
 "nbformat": 4,
 "nbformat_minor": 2
}
