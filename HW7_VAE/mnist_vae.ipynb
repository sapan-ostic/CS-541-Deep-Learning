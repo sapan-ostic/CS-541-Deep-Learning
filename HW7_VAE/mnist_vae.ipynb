{
 "cells": [
  {
   "cell_type": "code",
   "execution_count": 1,
   "metadata": {},
   "outputs": [],
   "source": [
    "import torch\n",
    "import torch.nn as nn\n",
    "import torch.nn.functional as F\n",
    "import torch.optim as optim\n",
    "import matplotlib.pyplot as plt\n",
    "\n",
    "import numpy as np\n",
    "\n",
    "from torch.utils.data import DataLoader\n",
    "from torchvision import datasets, transforms\n",
    "from torchvision.utils import make_grid\n",
    "\n",
    "from torch.utils.tensorboard import SummaryWriter\n",
    "writer = SummaryWriter('runs/fashion_mnist_experiment_1')\n",
    "\n",
    "device = torch.device('cuda' if torch.cuda.is_available() else 'cpu')"
   ]
  },
  {
   "cell_type": "code",
   "execution_count": 2,
   "metadata": {},
   "outputs": [],
   "source": [
    "transforms = transforms.Compose([transforms.ToTensor()])\n",
    "train_dataset = datasets.MNIST(\n",
    "    './data',\n",
    "    train=True,\n",
    "    download=True,\n",
    "    transform=transforms)\n",
    "\n",
    "test_dataset = datasets.MNIST(\n",
    "    './data',\n",
    "    train=False,\n",
    "    download=True,\n",
    "    transform=transforms\n",
    ")"
   ]
  },
  {
   "cell_type": "code",
   "execution_count": 3,
   "metadata": {},
   "outputs": [],
   "source": [
    "class Net(nn.Module):\n",
    "    def __init__(self, INPUT_SIZE, HIDDEN_SIZE, LATENT_SIZE):\n",
    "        super(Net, self).__init__()\n",
    "        self.en1 = nn.Linear(INPUT_SIZE, HIDDEN_SIZE)\n",
    "        self.en2_mu = nn.Linear(HIDDEN_SIZE, LATENT_SIZE)\n",
    "        self.en2_sigma = nn.Linear(HIDDEN_SIZE, LATENT_SIZE)\n",
    "\n",
    "        self.de1 = nn.Linear(LATENT_SIZE, HIDDEN_SIZE)\n",
    "        self.de2 = nn.Linear(HIDDEN_SIZE, INPUT_SIZE) \n",
    "\n",
    "        self.mu = torch.empty(LATENT_SIZE)\n",
    "        self.sigma = torch.empty(LATENT_SIZE)\n",
    "\n",
    "    def encoder(self,x):\n",
    "        x = torch.tanh(self.en1(x))  \n",
    "        mu = torch.tanh(self.en2_mu(x))\n",
    "        sigma = torch.tanh(self.en2_sigma(x)) \n",
    "        return mu, sigma\n",
    "\n",
    "    def decoder(self,x):\n",
    "        x = torch.tanh(self.de1(x))\n",
    "        x = torch.sigmoid(self.de2(x))\n",
    "        return x\n",
    "\n",
    "    def forward(self,x):\n",
    "        self.mu, self.sigma = self.encoder(x)\n",
    "    \n",
    "        # reparamatrization\n",
    "        x = self.reparametrize(self.mu, self.sigma)\n",
    "        \n",
    "        # Decoder\n",
    "        x = self.decoder(x)\n",
    "        return x\n",
    "\n",
    "    def reparametrize(self, mu, sigma):\n",
    "    \n",
    "        epsilon = torch.randn_like(sigma)\n",
    "        sample = epsilon.mul(sigma) + mu\n",
    "        return sample \n",
    "\n",
    "    def VAE(self):\n",
    "        return self.mu, self.sigma"
   ]
  },
  {
   "cell_type": "code",
   "execution_count": 4,
   "metadata": {},
   "outputs": [],
   "source": [
    "def train(SAVE_MODEL = False, LOG_DATA = False):\n",
    "    train_loss = 0\n",
    "    loss = 0\n",
    "    \n",
    "    for i, data in enumerate(train_loader):\n",
    "        # get data\n",
    "        input, _ = data\n",
    "        input = input.view(input.shape[0],-1)\n",
    "        input = input.to(device)\n",
    "\n",
    "        # zero the parameter gradients\n",
    "        optimizer.zero_grad()\n",
    "\n",
    "        # forward pass\n",
    "        output = model(input)    \n",
    "\n",
    "        recon_loss = F.binary_cross_entropy(output, input, size_average=False)\n",
    "        mu, sigma = model.VAE()\n",
    "\n",
    "        kl_loss = 0.5 * torch.sum(torch.exp(sigma) + mu**2 - 1. - sigma)\n",
    "\n",
    "        loss = recon_loss + kl_loss\n",
    "        # print(\"kl_loss: \", kl_loss  )\n",
    "        # print(\"recon_loss: \", recon_loss  )\n",
    "\n",
    "        loss.backward()\n",
    "        train_loss += 0.001*loss.item()\n",
    "\n",
    "        optimizer.step()\n",
    "    \n",
    "    if LOG_DATA:\n",
    "        writer.add_scalar('training loss',\n",
    "                       train_loss/ 100,\n",
    "                       epoch)\n",
    "  \n",
    "    print(\"Episode: \", epoch, \"loss: \", train_loss)\n",
    "\n",
    "    if epoch%10 == 0 and SAVE_MODEL:\n",
    "        torch.save({'epoch': epoch,\n",
    "            'model_state_dict': model.state_dict(),\n",
    "            'optimizer_state_dict': optimizer.state_dict(),\n",
    "            'loss': loss}, \n",
    "            'model_best.pth.tar')\n",
    "        \n",
    "    return train_loss\n",
    "\n",
    "def test():\n",
    "    SAMPLES = 16\n",
    "    test_sampler = DataLoader(test_dataset, batch_size=SAMPLES, shuffle=True)\n",
    "    iterator = iter(test_sampler)\n",
    "    images, labels = iterator.next()\n",
    "    imshow(make_grid(images.cpu(),nrow=SAMPLES))\n",
    "        \n",
    "    inputs = images.view(images.shape[0],-1)\n",
    "    inputs = inputs.to(device)\n",
    "    \n",
    "    outputs = model(inputs)\n",
    "    outputs = outputs.view(SAMPLES,1,28,28)\n",
    "    \n",
    "    imshow(make_grid(outputs.cpu(),nrow=SAMPLES))    \n",
    "    \n",
    "    # Gaussian sampling\n",
    "    z = torch.randn(16, LATENT_SIZE).to(device)\n",
    "\n",
    "    # run only the decoder\n",
    "    recon_img = model.decoder(z)\n",
    "    img = recon_img.view(SAMPLES, 1, 28, 28).data\n",
    "    imshow(make_grid(img.cpu(),nrow=SAMPLES)) \n",
    "\n",
    "def imshow(img):\n",
    "    npimg = img.detach().numpy()\n",
    "    npimg = np.transpose(npimg, (1, 2, 0))\n",
    "    \n",
    "    plt.imshow(npimg)\n",
    "    plt.show()    "
   ]
  },
  {
   "cell_type": "code",
   "execution_count": 6,
   "metadata": {},
   "outputs": [
    {
     "name": "stdout",
     "output_type": "stream",
     "text": [
      "Episode:  0 loss:  10879.476178710946\n"
     ]
    }
   ],
   "source": [
    "BATCH_SIZE = 128\n",
    "LEARNING_RATE = 0.01\n",
    "EPISODES = 1\n",
    "INPUT_SIZE = 28*28\n",
    "HIDDEN_SIZE = 256\n",
    "LATENT_SIZE = 32\n",
    "SAVE_MODEL = False\n",
    "LOG_DATA = False\n",
    "LOAD_MODEL = False\n",
    "\n",
    "train_loader = DataLoader(train_dataset, batch_size=BATCH_SIZE, shuffle=True)\n",
    "test_loader = DataLoader(test_dataset, batch_size=BATCH_SIZE)\n",
    "\n",
    "model = Net(INPUT_SIZE, HIDDEN_SIZE, LATENT_SIZE).cuda()\n",
    "optimizer = optim.Adam(model.parameters(), lr = LEARNING_RATE)\n",
    "\n",
    "if LOAD_MODEL:\n",
    "    checkpoint = torch.load('model_best.pth.tar')\n",
    "    model.load_state_dict(checkpoint['model_state_dict'])\n",
    "    optimizer.load_state_dict(checkpoint['optimizer_state_dict'])\n",
    "    epoch_ = checkpoint['epoch']\n",
    "    loss_ = checkpoint['loss']\n",
    "\n",
    "model.train()\n",
    "\n",
    "for epoch in range(EPISODES):\n",
    "    train_loss = train(SAVE_MODEL, LOG_DATA)\n",
    "\n",
    "# test()"
   ]
  },
  {
   "cell_type": "code",
   "execution_count": 7,
   "metadata": {},
   "outputs": [
    {
     "data": {
      "image/png": "[encoded data removed]",
      "text/plain": [
       "<Figure size 432x288 with 1 Axes>"
      ]
     },
     "metadata": {
      "needs_background": "light"
     },
     "output_type": "display_data"
    },
    {
     "data": {
      "image/png": "[encoded data removed]",
      "text/plain": [
       "<Figure size 432x288 with 1 Axes>"
      ]
     },
     "metadata": {
      "needs_background": "light"
     },
     "output_type": "display_data"
    },
    {
     "data": {
      "image/png": "[encoded data removed]",
      "text/plain": [
       "<Figure size 432x288 with 1 Axes>"
      ]
     },
     "metadata": {
      "needs_background": "light"
     },
     "output_type": "display_data"
    }
   ],
   "source": []
  },
  {
   "cell_type": "code",
   "execution_count": null,
   "metadata": {},
   "outputs": [],
   "source": []
  }
 ],
 "metadata": {
  "kernelspec": {
   "display_name": "Python 3",
   "language": "python",
   "name": "python3"
  },
  "language_info": {
   "codemirror_mode": {
    "name": "ipython",
    "version": 3
   },
   "file_extension": ".py",
   "mimetype": "text/x-python",
   "name": "python",
   "nbconvert_exporter": "python",
   "pygments_lexer": "ipython3",
   "version": "3.7.4"
  }
 },
 "nbformat": 4,
 "nbformat_minor": 4
}
