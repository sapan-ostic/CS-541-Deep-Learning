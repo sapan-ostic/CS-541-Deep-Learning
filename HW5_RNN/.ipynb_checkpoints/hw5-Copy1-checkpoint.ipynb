{
 "cells": [
  {
   "cell_type": "markdown",
   "metadata": {},
   "source": [
    "## RNN\n",
    "\n",
    "Problem: To memorize the (N-2)th digit for a given sequence of binary numbers.\n",
    "\n",
    "Example: 1 5 2 6 9 2 4 5 6 7 2 \n",
    "\n",
    "Output: 0 0 1 5 2 6 9 2 4 5 6 \n"
   ]
  },
  {
   "cell_type": "code",
   "execution_count": 8,
   "metadata": {},
   "outputs": [
    {
     "name": "stdout",
     "output_type": "stream",
     "text": [
      "{0: 1, 1: 2}\n",
      "2\n",
      "[2, 3]\n"
     ]
    }
   ],
   "source": [
    "a = {}\n",
    "a[0] = 1\n",
    "a[1] = 2\n",
    "print(a)\n",
    "print(a.pop(1))\n",
    "p = []\n",
    "p.append(1)\n",
    "p.append(2)\n",
    "p.append(3)\n",
    "p.pop(0)\n",
    "print(p)"
   ]
  },
  {
   "cell_type": "code",
   "execution_count": 92,
   "metadata": {},
   "outputs": [],
   "source": [
    "import numpy as np\n",
    "import matplotlib.pyplot as plt\n",
    "import scipy.optimize  # For check_grad, approx_fprime\n",
    "\n",
    "class RNN:\n",
    "    def __init__ (self, numHidden, numInput, numOutput):\n",
    "        self.numHidden = numHidden\n",
    "        self.numInput = numInput\n",
    "        \n",
    "        self.U = np.random.randn(numHidden, numHidden) * 1e-1 # 6x6\n",
    "        self.V = np.random.randn(numHidden, numInput ) * 1e-1 # 6x1\n",
    "        self.w = np.random.randn(numHidden, numOutput) * 1e-1 # 6x1\n",
    "       \n",
    "        # TODO: IMPLEMENT ME\n",
    "        # forward prop\n",
    "        self.y_preds = []\n",
    "        self.hs = []\n",
    "        \n",
    "        self.hidden = np.zeros((numHidden, numInput)) # 6x1\n",
    "        self.hidden_prev = np.zeros((numHidden, numInput)) # 6x1\n",
    "        self.hs.append(self.hidden_prev)\n",
    "        \n",
    "        # backward prop\n",
    "        self.dU = np.zeros_like(self.U)\n",
    "        self.dw = np.zeros_like(self.w)\n",
    "        self.dV = np.zeros_like(self.V)\n",
    "        self.dhnext = np.zeros_like(self.hidden)\n",
    "        \n",
    "        # hyperparameters\n",
    "        self.learning_rate = 0.001\n",
    "        \n",
    "    def backward (self, y):\n",
    "        # TODO: IMPLEMENT ME\n",
    "        \n",
    "        dJ_dy = y - self.y  # 1x1\n",
    "        self.dw = np.dot(self.hidden, dJ_dy)\n",
    "        \n",
    "        dh = np.dot(self.dw, dJ_dy) + self.dhnext\n",
    "        dhraw = (1 - self.hidden*self.hidden) * dh\n",
    "        \n",
    "        self.dV = np.dot(dhraw, x.T)\n",
    "        \n",
    "        self.dU = np.dot(dhraw, self.hidden_prev.T)\n",
    "        dhnext = np.dot(self.U.T, dhraw)\n",
    "        \n",
    "        self.hidden_prev = self.hidden\n",
    "\n",
    "        #         dy_dh = self.w.T   # 1x6\n",
    "        #         dh_dz = np.diag(1 - NP.SQUARE(np.tanh(self.z))) # 6x6\n",
    "        #         dz_dU =\n",
    "        \n",
    "        self.U -= self.learning_rate*self.dU\n",
    "        self.V -= self.learning_rate*self.dV\n",
    "        print(self.w.shape)\n",
    "        self.w -= self.learning_rate*self.dw\n",
    "        \n",
    "        pass\n",
    "\n",
    "    def forward (self, x):\n",
    "        # TODO: IMPLEMENT ME\n",
    "        \n",
    "        for i in range(self.T):\n",
    "            self.z = np.dot(self.U, self.hs[i-1]) + np.dot(self.V, x[i]) # 6x1\n",
    "            hidden = np.tanh(self.z) # 6x1\n",
    "            self.y_pred = np.dot(hidden.T, self.w) # 1x1\n",
    "            \n",
    "            self.hs.append(hidden)\n",
    "            self.y_preds.append(self.y_pred[0][0])            \n",
    "        pass\n",
    "    \n",
    "    def RNNloss(self,y):\n",
    "        dy = np.asarray(self.y_preds) - np.asarray(y)\n",
    "        print(dy)\n",
    "        self.loss = 0.5*np.dot(dy.T, dy)\n",
    "        print(self.loss)\n",
    "        return self.loss\n",
    "    \n",
    "    def step(self,x, y):\n",
    "        self.T = len(x)\n",
    "        self.forward(x)\n",
    "#         self.backward(y)\n",
    "        loss = self.RNNloss(y)\n",
    "#         print(loss)\n",
    "        return self.y_pred, loss"
   ]
  },
  {
   "cell_type": "code",
   "execution_count": 10,
   "metadata": {},
   "outputs": [],
   "source": [
    "# From https://medium.com/@erikhallstrm/hello-world-rnn-83cd7105b767\n",
    "def generateData ():\n",
    "    total_series_length = 50\n",
    "    echo_step = 2  # 2-back task\n",
    "    batch_size = 1\n",
    "    x = np.random.choice(2, total_series_length, p=[0.5, 0.5])\n",
    "    y = np.roll(x, echo_step)\n",
    "    y[0:echo_step] = 0\n",
    "    y = list(y)\n",
    "    return (x, y)"
   ]
  },
  {
   "cell_type": "code",
   "execution_count": 113,
   "metadata": {},
   "outputs": [
    {
     "name": "stdout",
     "output_type": "stream",
     "text": [
      "[ 1.65984918e-03  1.65984918e-03 -9.97949759e-01 -9.96292975e-01\n",
      "  2.30760888e-03 -9.97301960e-01 -9.96260207e-01  6.81322728e-04\n",
      " -9.97319831e-01  1.67464974e-03  6.69918298e-04 -9.97979058e-01\n",
      "  1.35985040e-05  2.29503568e-03  1.63048982e-03 -9.97918223e-01\n",
      " -9.97962187e-01  6.31204732e-04  2.30646963e-03  2.14570990e-05\n",
      " -9.96260018e-01  1.64074862e-03 -9.95664510e-01 -9.97961181e-01\n",
      " -9.97280987e-01  6.47965471e-04  6.62233596e-04  1.69260224e-03\n",
      "  1.66326699e-03 -9.97967457e-01 -9.96323229e-01  2.29622343e-03\n",
      " -9.95659348e-01 -9.96261381e-01 -9.97270618e-01 -9.97319826e-01\n",
      "  6.63609461e-04  6.70093404e-04  3.56754782e-06  1.36225052e-05\n",
      "  1.62933505e-03  1.63049449e-03 -9.97962352e-01 -9.96305373e-01\n",
      "  2.30661795e-03 -9.95647987e-01 -9.97916846e-01 -9.95614250e-01\n",
      "  2.28986783e-03 -9.97287294e-01]\n",
      "11.927834604101434\n"
     ]
    },
    {
     "ename": "ValueError",
     "evalue": "operands could not be broadcast together with shapes (99,) (49,) ",
     "output_type": "error",
     "traceback": [
      "\u001b[0;31m---------------------------------------------------------------------------\u001b[0m",
      "\u001b[0;31mValueError\u001b[0m                                Traceback (most recent call last)",
      "\u001b[0;32m<ipython-input-113-19bd3ab50ded>\u001b[0m in \u001b[0;36m<module>\u001b[0;34m\u001b[0m\n\u001b[1;32m     19\u001b[0m         \u001b[0my\u001b[0m \u001b[0;34m=\u001b[0m \u001b[0mys\u001b[0m\u001b[0;34m[\u001b[0m\u001b[0mi\u001b[0m\u001b[0;34m:\u001b[0m\u001b[0mi\u001b[0m\u001b[0;34m+\u001b[0m\u001b[0mT\u001b[0m\u001b[0;34m]\u001b[0m\u001b[0;34m\u001b[0m\u001b[0m\n\u001b[1;32m     20\u001b[0m \u001b[0;34m\u001b[0m\u001b[0m\n\u001b[0;32m---> 21\u001b[0;31m         \u001b[0my_pred\u001b[0m\u001b[0;34m,\u001b[0m \u001b[0mloss\u001b[0m \u001b[0;34m=\u001b[0m \u001b[0mrnn\u001b[0m\u001b[0;34m.\u001b[0m\u001b[0mstep\u001b[0m\u001b[0;34m(\u001b[0m\u001b[0mx\u001b[0m\u001b[0;34m,\u001b[0m\u001b[0my\u001b[0m\u001b[0;34m)\u001b[0m\u001b[0;34m\u001b[0m\u001b[0m\n\u001b[0m\u001b[1;32m     22\u001b[0m         \u001b[0mi\u001b[0m \u001b[0;34m+=\u001b[0m \u001b[0;36m1\u001b[0m\u001b[0;34m\u001b[0m\u001b[0m\n\u001b[1;32m     23\u001b[0m         \u001b[0;32mif\u001b[0m \u001b[0;34m(\u001b[0m\u001b[0mi\u001b[0m \u001b[0;34m==\u001b[0m \u001b[0mn\u001b[0m\u001b[0;34m)\u001b[0m\u001b[0;34m:\u001b[0m\u001b[0;34m\u001b[0m\u001b[0m\n",
      "\u001b[0;32m<ipython-input-92-2e737e9c7368>\u001b[0m in \u001b[0;36mstep\u001b[0;34m(self, x, y)\u001b[0m\n\u001b[1;32m     80\u001b[0m         \u001b[0mself\u001b[0m\u001b[0;34m.\u001b[0m\u001b[0mforward\u001b[0m\u001b[0;34m(\u001b[0m\u001b[0mx\u001b[0m\u001b[0;34m)\u001b[0m\u001b[0;34m\u001b[0m\u001b[0m\n\u001b[1;32m     81\u001b[0m \u001b[0;31m#         self.backward(y)\u001b[0m\u001b[0;34m\u001b[0m\u001b[0;34m\u001b[0m\u001b[0m\n\u001b[0;32m---> 82\u001b[0;31m         \u001b[0mloss\u001b[0m \u001b[0;34m=\u001b[0m \u001b[0mself\u001b[0m\u001b[0;34m.\u001b[0m\u001b[0mRNNloss\u001b[0m\u001b[0;34m(\u001b[0m\u001b[0my\u001b[0m\u001b[0;34m)\u001b[0m\u001b[0;34m\u001b[0m\u001b[0m\n\u001b[0m\u001b[1;32m     83\u001b[0m \u001b[0;31m#         print(loss)\u001b[0m\u001b[0;34m\u001b[0m\u001b[0;34m\u001b[0m\u001b[0m\n\u001b[1;32m     84\u001b[0m         \u001b[0;32mreturn\u001b[0m \u001b[0mself\u001b[0m\u001b[0;34m.\u001b[0m\u001b[0my_pred\u001b[0m\u001b[0;34m,\u001b[0m \u001b[0mloss\u001b[0m\u001b[0;34m\u001b[0m\u001b[0m\n",
      "\u001b[0;32m<ipython-input-92-2e737e9c7368>\u001b[0m in \u001b[0;36mRNNloss\u001b[0;34m(self, y)\u001b[0m\n\u001b[1;32m     70\u001b[0m \u001b[0;34m\u001b[0m\u001b[0m\n\u001b[1;32m     71\u001b[0m     \u001b[0;32mdef\u001b[0m \u001b[0mRNNloss\u001b[0m\u001b[0;34m(\u001b[0m\u001b[0mself\u001b[0m\u001b[0;34m,\u001b[0m\u001b[0my\u001b[0m\u001b[0;34m)\u001b[0m\u001b[0;34m:\u001b[0m\u001b[0;34m\u001b[0m\u001b[0m\n\u001b[0;32m---> 72\u001b[0;31m         \u001b[0mdy\u001b[0m \u001b[0;34m=\u001b[0m \u001b[0mnp\u001b[0m\u001b[0;34m.\u001b[0m\u001b[0masarray\u001b[0m\u001b[0;34m(\u001b[0m\u001b[0mself\u001b[0m\u001b[0;34m.\u001b[0m\u001b[0my_preds\u001b[0m\u001b[0;34m)\u001b[0m \u001b[0;34m-\u001b[0m \u001b[0mnp\u001b[0m\u001b[0;34m.\u001b[0m\u001b[0masarray\u001b[0m\u001b[0;34m(\u001b[0m\u001b[0my\u001b[0m\u001b[0;34m)\u001b[0m\u001b[0;34m\u001b[0m\u001b[0m\n\u001b[0m\u001b[1;32m     73\u001b[0m         \u001b[0mprint\u001b[0m\u001b[0;34m(\u001b[0m\u001b[0mdy\u001b[0m\u001b[0;34m)\u001b[0m\u001b[0;34m\u001b[0m\u001b[0m\n\u001b[1;32m     74\u001b[0m         \u001b[0mself\u001b[0m\u001b[0;34m.\u001b[0m\u001b[0mloss\u001b[0m \u001b[0;34m=\u001b[0m \u001b[0;36m0.5\u001b[0m\u001b[0;34m*\u001b[0m\u001b[0mnp\u001b[0m\u001b[0;34m.\u001b[0m\u001b[0mdot\u001b[0m\u001b[0;34m(\u001b[0m\u001b[0mdy\u001b[0m\u001b[0;34m.\u001b[0m\u001b[0mT\u001b[0m\u001b[0;34m,\u001b[0m \u001b[0mdy\u001b[0m\u001b[0;34m)\u001b[0m\u001b[0;34m\u001b[0m\u001b[0m\n",
      "\u001b[0;31mValueError\u001b[0m: operands could not be broadcast together with shapes (99,) (49,) "
     ]
    }
   ],
   "source": [
    "if __name__ == \"__main__\":\n",
    "    xs, ys = generateData()\n",
    "#     print(xs)\n",
    "#     print(ys)\n",
    "    \n",
    "    numHidden = 6\n",
    "    numInput = 1\n",
    "    numTimesteps = len(xs)\n",
    "    rnn = RNN(numHidden, numInput, 1)\n",
    "    \n",
    "    # TODO: IMPLEMENT ME\n",
    "    T = 50     # horizon \n",
    "    episode = 100\n",
    "    n = len(ys)\n",
    "    i = 0\n",
    "    \n",
    "    for iter in range(episode):\n",
    "        x = xs[i:i+T]\n",
    "        y = ys[i:i+T]\n",
    "        \n",
    "        y_pred, loss = rnn.step(x,y)\n",
    "        i += 1\n",
    "        if (i == n):\n",
    "            i = 0\n"
   ]
  },
  {
   "cell_type": "code",
   "execution_count": null,
   "metadata": {},
   "outputs": [],
   "source": []
  }
 ],
 "metadata": {
  "kernelspec": {
   "display_name": "Python 3",
   "language": "python",
   "name": "python3"
  },
  "language_info": {
   "codemirror_mode": {
    "name": "ipython",
    "version": 3
   },
   "file_extension": ".py",
   "mimetype": "text/x-python",
   "name": "python",
   "nbconvert_exporter": "python",
   "pygments_lexer": "ipython3",
   "version": "3.5.2"
  }
 },
 "nbformat": 4,
 "nbformat_minor": 4
}
