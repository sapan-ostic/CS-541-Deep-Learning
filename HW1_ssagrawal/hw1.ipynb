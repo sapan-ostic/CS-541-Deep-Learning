{
 "cells": [
  {
   "cell_type": "code",
   "execution_count": 3,
   "metadata": {},
   "outputs": [],
   "source": [
    "import numpy as np\n",
    "\n",
    "def problem_a (A, B):\n",
    "    return A + B\n",
    "\n",
    "def problem_b (A, B, C):\n",
    "    return np.dot(A,B)-C\n",
    "\n",
    "def problem_c (A, B, C):\n",
    "    return A*B+C.transpose()\n",
    "\n",
    "def problem_d (x, y):\n",
    "    return np.dot(x.transpose(),y)\n",
    "\n",
    "def problem_e (A):\n",
    "    return np.zeros(A.shape)\n",
    "\n",
    "def problem_f (A, x):\n",
    "    return np.linalg.solve(A,x)\n",
    "\n",
    "def problem_g (A, x):\n",
    "    return np.linalg.solve(A.transpose(),x.transpose()).transpose()\n",
    "\n",
    "def problem_h (A, alpha):\n",
    "    return A+alpha*np.eye(A.shape[0])\n",
    "\n",
    "def problem_i (A, i, j):\n",
    "    return A[i][j]\n",
    "\n",
    "def problem_j (A, i):\n",
    "    return np.sum(A[i,::2])\n",
    "\n",
    "def problem_k (A, c, d):\n",
    "    return np.mean(A*(A<=d)*(A>=c))\n",
    "\n",
    "def problem_l (A, k):\n",
    "    w,v = np.linalg.eig(A)\n",
    "    sort_id = np.argsort(w)[-k:] \n",
    "    return print(v[:, sort_id[::-1]]) \n",
    "\n",
    "def problem_m (x, k, m, s):\n",
    "    n = len(x)\n",
    "    z = np.ones([n])\n",
    "    mean = x + np.dot(m,z)\n",
    "    cov = s*np.eye(n)\n",
    "    return np.random.multivariate_normal(mean, cov, size=k).transpose()\n",
    "\n",
    "def problem_n (A):\n",
    "    n = A.shape[0]\n",
    "    ind = np.random.permutation(n)\n",
    "    return A[ind]\n",
    "\n",
    "def linear_regression (X_tr, y_tr):\n",
    "    n,m = X_tr.shape\n",
    "    X = np.zeros([1,m])\n",
    "    for i in range(n):\n",
    "        X += (X_tr[i,:]) * y_tr[i]\n",
    "    A = np.dot(X_tr.transpose(), X_tr)\n",
    "    w = np.linalg.solve(A,X.transpose())\n",
    "    return w\n",
    "    \n",
    "def train_age_regressor ():\n",
    "    # Load data\n",
    "    X_tr = np.load(\"age_regression_Xtr.npy\")\n",
    "    n = X_tr.shape[0]\n",
    "    X_tr = X_tr.reshape((n,-1))\n",
    "    ytr = np.load(\"age_regression_ytr.npy\")\n",
    "    \n",
    "    X_te = np.load(\"age_regression_Xte.npy\")\n",
    "    m = X_te.shape[0]\n",
    "    X_te = X_te.reshape((m,-1))\n",
    "    \n",
    "    yte = np.load(\"age_regression_yte.npy\")\n",
    "\n",
    "    w = linear_regression(X_tr, ytr)\n",
    "    return w\n",
    "    # Report fMSE cost on the training and testing data (separately)\n",
    "    # ...\n"
   ]
  },
  {
   "cell_type": "code",
   "execution_count": 2,
   "metadata": {
    "scrolled": true
   },
   "outputs": [],
   "source": [
    "w = train_age_regressor ()"
   ]
  },
  {
   "cell_type": "code",
   "execution_count": 3,
   "metadata": {},
   "outputs": [
    {
     "data": {
      "text/plain": [
       "array([[  6.98588537],\n",
       "       [ -1.0178158 ],\n",
       "       [-15.19684493],\n",
       "       ...,\n",
       "       [  4.52892776],\n",
       "       [-11.65211279],\n",
       "       [  7.92118149]])"
      ]
     },
     "execution_count": 3,
     "metadata": {},
     "output_type": "execute_result"
    }
   ],
   "source": [
    "w"
   ]
  },
  {
   "cell_type": "code",
   "execution_count": 7,
   "metadata": {},
   "outputs": [
    {
     "name": "stdout",
     "output_type": "stream",
     "text": [
      "Training Data fMSE =  50.46549587657664\n",
      "Testing Data fMSE =  269.19936735382396\n"
     ]
    }
   ],
   "source": [
    "X_tr = np.load(\"age_regression_Xtr.npy\")\n",
    "n = X_tr.shape[0]\n",
    "X_tr = X_tr.reshape((n,-1))\n",
    "ytr = np.load(\"age_regression_ytr.npy\")\n",
    "\n",
    "X_te = np.load(\"age_regression_Xte.npy\")\n",
    "m = X_te.shape[0]\n",
    "X_te = X_te.reshape((m,-1))\n",
    "yte = np.load(\"age_regression_yte.npy\")\n",
    "\n",
    "fMSE = 0\n",
    "for i in range(n):\n",
    "    fMSE += (1/(2*n))*(np.dot(X_tr[i,:],w)- ytr[i])*(np.dot(X_tr[i,:],w)- ytr[i]) \n",
    "    \n",
    "print(\"Training Data fMSE = \", fMSE[0])\n",
    "\n",
    "fMSE = 0\n",
    "for i in range(m):\n",
    "    fMSE += (1/(2*m))*(np.dot(X_te[i,:],w)- yte[i])*(np.dot(X_te[i,:],w)- yte[i]) \n",
    "    \n",
    "print(\"Testing Data fMSE = \", fMSE[0])"
   ]
  }
 ],
 "metadata": {
  "kernelspec": {
   "display_name": "Python 3",
   "language": "python",
   "name": "python3"
  },
  "language_info": {
   "codemirror_mode": {
    "name": "ipython",
    "version": 3
   },
   "file_extension": ".py",
   "mimetype": "text/x-python",
   "name": "python",
   "nbconvert_exporter": "python",
   "pygments_lexer": "ipython3",
   "version": "3.7.5"
  }
 },
 "nbformat": 4,
 "nbformat_minor": 2
}
