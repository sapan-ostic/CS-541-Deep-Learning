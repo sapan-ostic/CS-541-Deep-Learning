{
 "cells": [
  {
   "cell_type": "code",
   "execution_count": 180,
   "metadata": {},
   "outputs": [],
   "source": [
    "import numpy as np\n",
    "\n",
    "def problem_a (A, B):\n",
    "    return A + B\n",
    "\n",
    "def problem_b (A, B, C):\n",
    "    return np.dot(A,B)-C\n",
    "\n",
    "def problem_c (A, B, C):\n",
    "    return A*B+C.transpose()\n",
    "\n",
    "def problem_d (x, y):\n",
    "    return np.dot(x.transpose(),y)\n",
    "\n",
    "def problem_e (A):\n",
    "    return np.zeros(A.shape)\n",
    "\n",
    "def problem_f (A, x):\n",
    "    return np.linalg.solve(A,x)\n",
    "\n",
    "def problem_g (A, x):\n",
    "    return np.linalg.solve(A.transpose(),x.transpose()).transpose()\n",
    "\n",
    "def problem_h (A, alpha):\n",
    "    return A+alpha*np.eye(A.shape[0])\n",
    "\n",
    "def problem_i (A, i, j):\n",
    "    return A[i][j]\n",
    "\n",
    "def problem_j (A, i):\n",
    "    return np.sum(A[i,::2])\n",
    "\n",
    "def problem_k (A, c, d):\n",
    "    return np.mean(A*(A<=d)*(A>=c))\n",
    "\n",
    "def problem_l (A, k):\n",
    "    w,v = np.linalg.eig(A)\n",
    "    return v[:,-k:]\n",
    "\n",
    "def problem_m (x, k, m, s):\n",
    "    n = x.shape[0]\n",
    "    z = np.ones([n,1])\n",
    "    return s*np.eye(n)* np.random.randn(n, k) + m*z\n",
    "\n",
    "# def problem_n (A):\n",
    "#     return ...\n",
    "\n",
    "def linear_regression (X_tr, y_tr):\n",
    "    n,m = X_tr.shape\n",
    "#     A = np.zeros([m,m])\n",
    "    A = 0\n",
    "    X = np.zeros([1,m])\n",
    "    for i in range(n):\n",
    "#         print(np.outer((X_tr[i,:]), X_tr[i,:].transpose()).shape)\n",
    "        A += np.outer((X_tr[i,:]), X_tr[i,:].transpose())\n",
    "        X += (X_tr[i,:]) * y_tr[i]\n",
    "#         \n",
    "    print(A.shape)\n",
    "    print(X.shape)\n",
    "    w = np.linalg.solve(A,X.transpose())\n",
    "    return w\n",
    "    \n",
    "def train_age_regressor ():\n",
    "    # Load data\n",
    "    X_tr = np.load(\"age_regression_Xtr.npy\")\n",
    "    n = X_tr.shape[0]\n",
    "    X_tr = X_tr.reshape((n,-1))\n",
    "    ytr = np.load(\"age_regression_ytr.npy\")\n",
    "#     print(X_tr.shape)\n",
    "    \n",
    "    X_te = np.load(\"age_regression_Xte.npy\")\n",
    "    m = X_te.shape[0]\n",
    "    X_te = X_te.reshape((m,-1))\n",
    "    \n",
    "    yte = np.load(\"age_regression_yte.npy\")\n",
    "\n",
    "    w = linear_regression(X_tr, ytr)\n",
    "    return w\n",
    "    # Report fMSE cost on the training and testing data (separately)\n",
    "    # ...\n"
   ]
  },
  {
   "cell_type": "code",
   "execution_count": 181,
   "metadata": {
    "scrolled": true
   },
   "outputs": [
    {
     "name": "stdout",
     "output_type": "stream",
     "text": [
      "(2304, 2304)\n",
      "(1, 2304)\n"
     ]
    }
   ],
   "source": [
    "w = train_age_regressor ()"
   ]
  },
  {
   "cell_type": "code",
   "execution_count": 185,
   "metadata": {},
   "outputs": [
    {
     "name": "stdout",
     "output_type": "stream",
     "text": [
      "[50.66711559]\n",
      "[272.21894185]\n"
     ]
    }
   ],
   "source": [
    "X_tr = np.load(\"age_regression_Xtr.npy\")\n",
    "n = X_tr.shape[0]\n",
    "X_tr = X_tr.reshape((n,-1))\n",
    "ytr = np.load(\"age_regression_ytr.npy\")\n",
    "\n",
    "X_te = np.load(\"age_regression_Xte.npy\")\n",
    "m = X_te.shape[0]\n",
    "X_te = X_te.reshape((m,-1))\n",
    "\n",
    "yte = np.load(\"age_regression_yte.npy\")\n",
    "\n",
    "\n",
    "fMSE = 0\n",
    "for i in range(n):\n",
    "#     print(np.dot(X_tr[i,:],w))\n",
    "    fMSE += (1/(2*n))*(np.dot(X_tr[i,:],w)- ytr[i])*(np.dot(X_tr[i,:],w)- ytr[i]) \n",
    "    \n",
    "print(fMSE)\n",
    "\n",
    "fMSE = 0\n",
    "for i in range(m):\n",
    "#     print(np.dot(X_tr[i,:],w))\n",
    "    fMSE += (1/(2*m))*(np.dot(X_te[i,:],w)- yte[i])*(np.dot(X_te[i,:],w)- yte[i]) \n",
    "    \n",
    "print(fMSE)  "
   ]
  },
  {
   "cell_type": "code",
   "execution_count": 81,
   "metadata": {},
   "outputs": [
    {
     "name": "stdout",
     "output_type": "stream",
     "text": [
      "[[0 1]\n",
      " [2 0]]\n",
      "0.75\n"
     ]
    },
    {
     "ename": "ValueError",
     "evalue": "operands could not be broadcast together with shapes (4,4) (4,3) ",
     "output_type": "error",
     "traceback": [
      "\u001b[0;31m---------------------------------------------------------------------------\u001b[0m",
      "\u001b[0;31mValueError\u001b[0m                                Traceback (most recent call last)",
      "\u001b[0;32m<ipython-input-81-5f1f28eaf45d>\u001b[0m in \u001b[0;36m<module>\u001b[0;34m\u001b[0m\n\u001b[1;32m     11\u001b[0m \u001b[0;34m\u001b[0m\u001b[0m\n\u001b[1;32m     12\u001b[0m \u001b[0mx\u001b[0m \u001b[0;34m=\u001b[0m \u001b[0mnp\u001b[0m\u001b[0;34m.\u001b[0m\u001b[0marray\u001b[0m\u001b[0;34m(\u001b[0m\u001b[0;34m[\u001b[0m\u001b[0;36m1\u001b[0m\u001b[0;34m,\u001b[0m\u001b[0;36m2\u001b[0m\u001b[0;34m,\u001b[0m\u001b[0;36m3\u001b[0m\u001b[0;34m,\u001b[0m\u001b[0;36m4\u001b[0m\u001b[0;34m]\u001b[0m\u001b[0;34m)\u001b[0m\u001b[0;34m\u001b[0m\u001b[0;34m\u001b[0m\u001b[0m\n\u001b[0;32m---> 13\u001b[0;31m \u001b[0md\u001b[0m \u001b[0;34m=\u001b[0m \u001b[0mproblem_m\u001b[0m\u001b[0;34m(\u001b[0m\u001b[0mx\u001b[0m\u001b[0;34m,\u001b[0m \u001b[0;36m3\u001b[0m\u001b[0;34m,\u001b[0m \u001b[0;36m0.1\u001b[0m\u001b[0;34m,\u001b[0m \u001b[0;36m0.2\u001b[0m\u001b[0;34m)\u001b[0m\u001b[0;34m\u001b[0m\u001b[0;34m\u001b[0m\u001b[0m\n\u001b[0m\u001b[1;32m     14\u001b[0m \u001b[0mprint\u001b[0m\u001b[0;34m(\u001b[0m\u001b[0md\u001b[0m\u001b[0;34m)\u001b[0m\u001b[0;34m\u001b[0m\u001b[0;34m\u001b[0m\u001b[0m\n\u001b[1;32m     15\u001b[0m \u001b[0;31m# y = np.array([2,1])\u001b[0m\u001b[0;34m\u001b[0m\u001b[0;34m\u001b[0m\u001b[0;34m\u001b[0m\u001b[0m\n",
      "\u001b[0;32m<ipython-input-80-ee62f1146e31>\u001b[0m in \u001b[0;36mproblem_m\u001b[0;34m(x, k, m, s)\u001b[0m\n\u001b[1;32m     41\u001b[0m     \u001b[0mn\u001b[0m \u001b[0;34m=\u001b[0m \u001b[0mx\u001b[0m\u001b[0;34m.\u001b[0m\u001b[0mshape\u001b[0m\u001b[0;34m[\u001b[0m\u001b[0;36m0\u001b[0m\u001b[0;34m]\u001b[0m\u001b[0;34m\u001b[0m\u001b[0;34m\u001b[0m\u001b[0m\n\u001b[1;32m     42\u001b[0m     \u001b[0mz\u001b[0m \u001b[0;34m=\u001b[0m \u001b[0mnp\u001b[0m\u001b[0;34m.\u001b[0m\u001b[0mones\u001b[0m\u001b[0;34m(\u001b[0m\u001b[0;34m[\u001b[0m\u001b[0mn\u001b[0m\u001b[0;34m,\u001b[0m\u001b[0;36m1\u001b[0m\u001b[0;34m]\u001b[0m\u001b[0;34m)\u001b[0m\u001b[0;34m\u001b[0m\u001b[0;34m\u001b[0m\u001b[0m\n\u001b[0;32m---> 43\u001b[0;31m     \u001b[0;32mreturn\u001b[0m \u001b[0ms\u001b[0m\u001b[0;34m*\u001b[0m\u001b[0mnp\u001b[0m\u001b[0;34m.\u001b[0m\u001b[0meye\u001b[0m\u001b[0;34m(\u001b[0m\u001b[0mn\u001b[0m\u001b[0;34m)\u001b[0m\u001b[0;34m*\u001b[0m \u001b[0mnp\u001b[0m\u001b[0;34m.\u001b[0m\u001b[0mrandom\u001b[0m\u001b[0;34m.\u001b[0m\u001b[0mrandn\u001b[0m\u001b[0;34m(\u001b[0m\u001b[0mn\u001b[0m\u001b[0;34m,\u001b[0m \u001b[0mk\u001b[0m\u001b[0;34m)\u001b[0m \u001b[0;34m+\u001b[0m \u001b[0mm\u001b[0m\u001b[0;34m*\u001b[0m\u001b[0mz\u001b[0m\u001b[0;34m\u001b[0m\u001b[0;34m\u001b[0m\u001b[0m\n\u001b[0m\u001b[1;32m     44\u001b[0m \u001b[0;34m\u001b[0m\u001b[0m\n\u001b[1;32m     45\u001b[0m \u001b[0;31m# def problem_n (A):\u001b[0m\u001b[0;34m\u001b[0m\u001b[0;34m\u001b[0m\u001b[0;34m\u001b[0m\u001b[0m\n",
      "\u001b[0;31mValueError\u001b[0m: operands could not be broadcast together with shapes (4,4) (4,3) "
     ]
    }
   ],
   "source": [
    "A = np.array([[0,1],[2,3]])\n",
    "B = np.array([[1,0],[0,1]])\n",
    "C = np.array([[1,0],[0,1]])\n",
    "\n",
    "B = A*(A<=2)*(A>=1)\n",
    "print(B)\n",
    "\n",
    "D = problem_k(A,1,2)\n",
    "print(D)\n",
    "\n",
    "\n",
    "x = np.array([1,2,3,4])\n",
    "d = problem_m(x, 3, 0.1, 0.2)\n",
    "print(d)\n",
    "# y = np.array([2,1])\n",
    "\n",
    "# d = problem_l(np.diag((1, 2, 3)), 2)\n",
    "# print(np.ones([3]))\n",
    "\n",
    "# A = np.array([[0,0.1,1,1.1,2,2.1,3,3.1],[4,4.1,5,5.1,6,6.1,7,7.1]])\n",
    "# print(A[:,-2:])"
   ]
  },
  {
   "cell_type": "code",
   "execution_count": 83,
   "metadata": {},
   "outputs": [],
   "source": [
    "a = np.load('age_regression_Xte.npy')"
   ]
  },
  {
   "cell_type": "code",
   "execution_count": 89,
   "metadata": {
    "scrolled": true
   },
   "outputs": [
    {
     "data": {
      "text/plain": [
       "<matplotlib.image.AxesImage at 0x7fedc77c9dd0>"
      ]
     },
     "execution_count": 89,
     "metadata": {},
     "output_type": "execute_result"
    },
    {
     "data": {
      "image/png": "[encoded data removed]",
      "text/plain": [
       "<Figure size 432x288 with 1 Axes>"
      ]
     },
     "metadata": {
      "needs_background": "light"
     },
     "output_type": "display_data"
    }
   ],
   "source": [
    "from matplotlib import pyplot as plt\n",
    "a.shape\n",
    "plt.imshow(a[3,:,:])"
   ]
  },
  {
   "cell_type": "code",
   "execution_count": 92,
   "metadata": {
    "scrolled": true
   },
   "outputs": [
    {
     "name": "stdout",
     "output_type": "stream",
     "text": [
      "(5000, 48, 48)\n"
     ]
    },
    {
     "data": {
      "text/plain": [
       "<matplotlib.image.AxesImage at 0x7fedc9e59890>"
      ]
     },
     "execution_count": 92,
     "metadata": {},
     "output_type": "execute_result"
    },
    {
     "data": {
      "image/png": "[encoded data removed]",
      "text/plain": [
       "<Figure size 432x288 with 1 Axes>"
      ]
     },
     "metadata": {
      "needs_background": "light"
     },
     "output_type": "display_data"
    }
   ],
   "source": [
    "b = np.load('age_regression_Xtr.npy')\n",
    "print(b.shape)\n",
    "plt.imshow(b[3,:,:])"
   ]
  },
  {
   "cell_type": "code",
   "execution_count": 96,
   "metadata": {},
   "outputs": [
    {
     "name": "stdout",
     "output_type": "stream",
     "text": [
      "(2500,)\n",
      "35.0\n",
      "(5000,)\n",
      "40.0\n"
     ]
    }
   ],
   "source": [
    "c = np.load('age_regression_yte.npy')\n",
    "print(c.shape)\n",
    "print(c[0])\n",
    "\n",
    "d = np.load('age_regression_ytr.npy')\n",
    "print(d.shape)\n",
    "print(d[0])"
   ]
  }
 ],
 "metadata": {
  "kernelspec": {
   "display_name": "Python 3",
   "language": "python",
   "name": "python3"
  },
  "language_info": {
   "codemirror_mode": {
    "name": "ipython",
    "version": 3
   },
   "file_extension": ".py",
   "mimetype": "text/x-python",
   "name": "python",
   "nbconvert_exporter": "python",
   "pygments_lexer": "ipython3",
   "version": "3.7.4"
  }
 },
 "nbformat": 4,
 "nbformat_minor": 2
}
